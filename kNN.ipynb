{
 "cells": [
  {
   "cell_type": "code",
   "execution_count": null,
   "metadata": {
    "collapsed": true
   },
   "outputs": [],
   "source": []
  },
  {
   "cell_type": "code",
   "execution_count": 1,
   "metadata": {
    "collapsed": true
   },
   "outputs": [],
   "source": [
    "#产生数据集\n",
    "\n",
    "import sys\n",
    "import os\n",
    "from numpy import *\n",
    "import numpy as np\n",
    "import matplotlib.pyplot as plt\n",
    "import operator\n",
    "\n",
    "#配置UTF8输出环境\n",
    "reload(sys)\n",
    "sys.setdefaultencoding('utf-8')\n",
    "#\n",
    "\n",
    "k = 3 #最近邻个数\n",
    "\n",
    "def createDataSet():\n",
    "    group = array([[1.0, 1.1], [1.0, 1.0], [0, 0], [0, 0.1]])\n",
    "    labels = ['A', 'A', 'B', 'B']\n",
    "    return group, labels"
   ]
  },
  {
   "cell_type": "code",
   "execution_count": 2,
   "metadata": {
    "collapsed": false
   },
   "outputs": [
    {
     "data": {
      "image/png": "[encoded data removed]",
      "text/plain": [
       "<matplotlib.figure.Figure at 0x77eafd0>"
      ]
     },
     "metadata": {},
     "output_type": "display_data"
    }
   ],
   "source": [
    "#绘制图形\n",
    "\n",
    "dataSet, labels = createDataSet()\n",
    "#绘图\n",
    "\n",
    "fig = plt.figure()\n",
    "ax = fig.add_subplot(111)\n",
    "indx = 0\n",
    "for point in dataSet:\n",
    "    if labels[indx] == 'A':\n",
    "        ax.scatter(point[0], point[1], c = 'blue', marker = 'o', linewidths = 0, s = 300)\n",
    "        plt.annotate(\"(\" + str(point[0]) + \",\" + str(point[1]) + \")\", xy = (point[0], point[1]))\n",
    "    else:\n",
    "        ax.scatter(point[0], point[1], c = 'red', marker = '^', linewidths = 0, s = 300)\n",
    "        plt.annotate(\"(\" + str(point[0]) + \",\" + str(point[1]) + \")\", xy = (point[0], point[1]))\n",
    "        \n",
    "plt.show()"
   ]
  },
  {
   "cell_type": "code",
   "execution_count": 4,
   "metadata": {
    "collapsed": true
   },
   "outputs": [],
   "source": [
    "#夹角余弦距离公式\n",
    "\n",
    "def cosdist(vector1, vector2):\n",
    "    return dot(vector1, vector2) / (linalg.norm(vector1)*linalg.norm(vector2))"
   ]
  },
  {
   "cell_type": "code",
   "execution_count": 5,
   "metadata": {
    "collapsed": true
   },
   "outputs": [],
   "source": [
    "#kNN分类器\n",
    "#测试集：testdata; 训练集: trainSet; 类别标签: listClasses;\n",
    "\n",
    "def classify(testdata, trainSet, listClasses, k):\n",
    "    dataSetSize = trainSet.shape(0)     #返回样本集的行数\n",
    "    distances = array(zeros(dataSetSize))\n",
    "    for indx in xrange(dataSetSize):    #计算测试集与训练集之间的距离； 夹角余弦\n",
    "        distances[indx] = cosdist(testdata, trainSet[indx])\n",
    "    #根据生成的夹角余弦按从大到小排序，结果为索引号\n",
    "    \n",
    "    sortedDistIndicies = argsort(-distances)\n",
    "    classCount = {}\n",
    "    \n",
    "    for i in range(k): #获取角度最小的前k项作为参考项\n",
    "        #按排序顺序返回样本集对应的类别标签\n",
    "        voteIlabel = listClasses[sortedDistIndicies[i]]\n",
    "        #为字典classcount赋值，相同key，value+1\n",
    "        classcount[voteIlabel] = classcount.get(voteIlabel, 0) + 1\n",
    "    \n",
    "    #对分类字典classcount按value重新排序\n",
    "    sortedClassCount = sorted(classcount.iteritems(), key=operator.itemgetter(1), reverse = true)\n",
    "    \n",
    "    return sortedClassCount[0][0] #返回序最高的一项\n"
   ]
  },
  {
   "cell_type": "code",
   "execution_count": 7,
   "metadata": {
    "collapsed": false
   },
   "outputs": [
    {
     "data": {
      "text/plain": [
       "'\\ndataSet, listClasses = loadDataSet()\\nnb = NBayes()\\nnb.train_set(dataSet, listClasses)\\n#\\xe4\\xbd\\xbf\\xe7\\x94\\xa8\\xe4\\xb9\\x8b\\xe5\\x89\\x8d\\xe8\\xb4\\x9d\\xe5\\x8f\\xb6\\xe6\\x96\\xaf\\xe5\\x88\\x86\\xe7\\xb1\\xbb\\xe9\\x98\\xb6\\xe6\\xae\\xb5\\xe7\\x9a\\x84\\xe6\\x95\\xb0\\xe6\\x8d\\xae\\xe9\\x9b\\x86\\xe5\\x8f\\x8a\\xe7\\x94\\x9f\\xe6\\x88\\x90\\xe7\\x9a\\x84TF\\xe5\\x90\\x91\\xe9\\x87\\x8f\\xe8\\xbf\\x9b\\xe8\\xa1\\x8c\\xe5\\x88\\x86\\xe7\\xb1\\xbb\\n\\nprint classify(nb.tf[3], nb.tf, listClasses, k)\\n'"
      ]
     },
     "execution_count": 7,
     "metadata": {},
     "output_type": "execute_result"
    }
   ],
   "source": [
    "'''\n",
    "dataSet, listClasses = loadDataSet()\n",
    "nb = NBayes()\n",
    "nb.train_set(dataSet, listClasses)\n",
    "#使用之前贝叶斯分类阶段的数据集及生成的TF向量进行分类\n",
    "\n",
    "print classify(nb.tf[3], nb.tf, listClasses, k)\n",
    "'''"
   ]
  },
  {
   "cell_type": "code",
   "execution_count": null,
   "metadata": {
    "collapsed": true
   },
   "outputs": [],
   "source": []
  }
 ],
 "metadata": {
  "anaconda-cloud": {},
  "kernelspec": {
   "display_name": "Python [default]",
   "language": "python",
   "name": "python2"
  },
  "language_info": {
   "codemirror_mode": {
    "name": "ipython",
    "version": 2
   },
   "file_extension": ".py",
   "mimetype": "text/x-python",
   "name": "python",
   "nbconvert_exporter": "python",
   "pygments_lexer": "ipython2",
   "version": "2.7.12"
  }
 },
 "nbformat": 4,
 "nbformat_minor": 1
}
