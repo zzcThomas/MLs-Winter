{
 "cells": [
  {
   "cell_type": "code",
   "execution_count": 2,
   "metadata": {
    "collapsed": false
   },
   "outputs": [],
   "source": [
    "#TF-IDF strategy\n",
    "\n",
    "import sys\n",
    "import os\n",
    "from sklearn.datasets.base import Bunch #引入Bunch类\n",
    "import cPickle as pickle                  #引入持久化类\n",
    "from sklearn import feature_extraction\n",
    "from sklearn.feature_extraction.text import TfidfTransformer #TF-TDF向量转化类\n",
    "from sklearn.feature_extraction.text import TfidfVectorizer  #TF-IDF向量生成类\n",
    "\n",
    "reload(sys)\n",
    "sys.setdefaultencoding('utf-8')"
   ]
  },
  {
   "cell_type": "code",
   "execution_count": 4,
   "metadata": {
    "collapsed": true
   },
   "outputs": [],
   "source": [
    "'''\n",
    "读取和写入Bunch对象的函数\n",
    "'''\n",
    "#读取Bunch对象\n",
    "def readbunchobj(path):\n",
    "    file_obj = open(path, \"rb\")\n",
    "    bunch = pickle.load(file_obj)\n",
    "    file_obj.close()\n",
    "    return bunch\n",
    "\n",
    "#写入bunch对象\n",
    "def writebunchobj(path, bunchobj):\n",
    "    file_obj = open(path, \"wb\")\n",
    "    pickle.dump(bunchobj, file_obj)\n",
    "    file_obj.close()"
   ]
  },
  {
   "cell_type": "code",
   "execution_count": 5,
   "metadata": {
    "collapsed": false
   },
   "outputs": [
    {
     "ename": "IOError",
     "evalue": "[Errno 2] No such file or directory: 'train_word_bag/train_set.dat'",
     "output_type": "error",
     "traceback": [
      "\u001b[0;31m---------------------------------------------------------------------------\u001b[0m",
      "\u001b[0;31mIOError\u001b[0m                                   Traceback (most recent call last)",
      "\u001b[0;32m<ipython-input-5-2a978c09e5e4>\u001b[0m in \u001b[0;36m<module>\u001b[0;34m()\u001b[0m\n\u001b[1;32m      5\u001b[0m \u001b[1;31m#导入分词后的词向量Bunch对象\u001b[0m\u001b[1;33m\u001b[0m\u001b[1;33m\u001b[0m\u001b[0m\n\u001b[1;32m      6\u001b[0m \u001b[0mpath\u001b[0m \u001b[1;33m=\u001b[0m \u001b[1;34m\"train_word_bag/train_set.dat\"\u001b[0m  \u001b[1;31m#词向量空间保存路径\u001b[0m\u001b[1;33m\u001b[0m\u001b[0m\n\u001b[0;32m----> 7\u001b[0;31m \u001b[0mbunch\u001b[0m \u001b[1;33m=\u001b[0m \u001b[0mreadbunchobj\u001b[0m\u001b[1;33m(\u001b[0m\u001b[0mpath\u001b[0m\u001b[1;33m)\u001b[0m\u001b[1;33m\u001b[0m\u001b[0m\n\u001b[0m\u001b[1;32m      8\u001b[0m \u001b[1;33m\u001b[0m\u001b[0m\n\u001b[1;32m      9\u001b[0m \u001b[1;31m#构建TF-TDF词向量空间对象\u001b[0m\u001b[1;33m\u001b[0m\u001b[1;33m\u001b[0m\u001b[0m\n",
      "\u001b[0;32m<ipython-input-4-23d703fc9126>\u001b[0m in \u001b[0;36mreadbunchobj\u001b[0;34m(path)\u001b[0m\n\u001b[1;32m      4\u001b[0m \u001b[1;31m#读取Bunch对象\u001b[0m\u001b[1;33m\u001b[0m\u001b[1;33m\u001b[0m\u001b[0m\n\u001b[1;32m      5\u001b[0m \u001b[1;32mdef\u001b[0m \u001b[0mreadbunchobj\u001b[0m\u001b[1;33m(\u001b[0m\u001b[0mpath\u001b[0m\u001b[1;33m)\u001b[0m\u001b[1;33m:\u001b[0m\u001b[1;33m\u001b[0m\u001b[0m\n\u001b[0;32m----> 6\u001b[0;31m     \u001b[0mfile_obj\u001b[0m \u001b[1;33m=\u001b[0m \u001b[0mopen\u001b[0m\u001b[1;33m(\u001b[0m\u001b[0mpath\u001b[0m\u001b[1;33m,\u001b[0m \u001b[1;34m\"rb\"\u001b[0m\u001b[1;33m)\u001b[0m\u001b[1;33m\u001b[0m\u001b[0m\n\u001b[0m\u001b[1;32m      7\u001b[0m     \u001b[0mbunch\u001b[0m \u001b[1;33m=\u001b[0m \u001b[0mpickle\u001b[0m\u001b[1;33m.\u001b[0m\u001b[0mload\u001b[0m\u001b[1;33m(\u001b[0m\u001b[0mfile_obj\u001b[0m\u001b[1;33m)\u001b[0m\u001b[1;33m\u001b[0m\u001b[0m\n\u001b[1;32m      8\u001b[0m     \u001b[0mfile_obj\u001b[0m\u001b[1;33m.\u001b[0m\u001b[0mclose\u001b[0m\u001b[1;33m(\u001b[0m\u001b[1;33m)\u001b[0m\u001b[1;33m\u001b[0m\u001b[0m\n",
      "\u001b[0;31mIOError\u001b[0m: [Errno 2] No such file or directory: 'train_word_bag/train_set.dat'"
     ]
    }
   ],
   "source": [
    "'''\n",
    "从训练集生成TF-IDF向量词袋\n",
    "'''\n",
    "\n",
    "#导入分词后的词向量Bunch对象\n",
    "path = \"train_word_bag/train_set.dat\"  #词向量空间保存路径\n",
    "bunch = readbunchobj(path)\n",
    "\n",
    "#构建TF-TDF词向量空间对象\n",
    "tfidfspace = Bunch(target_name = bunch.target_name, label = bunch.label, filenames = bunch.filenames, tdm=[], vocabulary = {})\n",
    "\n",
    "#使用TfidfVectorizer初始化向量空间模型\n",
    "vectorizer = TfidfVectorizer(stop_words = stpwrdlst, subliner_tf = True, max_df = 0.5)\n",
    "transformer = TfidfTransformer()  #统计每个词语的TF-IDF权值\n",
    "\n",
    "#文本转为词频矩阵，单独保存字典文件\n",
    "tfidfspace.tdm = vectorizer.fit_transform(bunch.contents)\n",
    "tdidfspace.vocabulary = vectorizer.vocabulary_"
   ]
  },
  {
   "cell_type": "code",
   "execution_count": 6,
   "metadata": {
    "collapsed": false
   },
   "outputs": [
    {
     "ename": "NameError",
     "evalue": "name 'tfidfspace' is not defined",
     "output_type": "error",
     "traceback": [
      "\u001b[0;31m---------------------------------------------------------------------------\u001b[0m",
      "\u001b[0;31mNameError\u001b[0m                                 Traceback (most recent call last)",
      "\u001b[0;32m<ipython-input-6-1789f7199538>\u001b[0m in \u001b[0;36m<module>\u001b[0;34m()\u001b[0m\n\u001b[1;32m      5\u001b[0m \u001b[1;31m#创建词袋的持久化\u001b[0m\u001b[1;33m\u001b[0m\u001b[1;33m\u001b[0m\u001b[0m\n\u001b[1;32m      6\u001b[0m \u001b[0mspace_path\u001b[0m \u001b[1;33m=\u001b[0m \u001b[1;34m\"train_word_bag/tfidfspace.dat\"\u001b[0m  \u001b[1;31m#词向量词袋保存路径\u001b[0m\u001b[1;33m\u001b[0m\u001b[0m\n\u001b[0;32m----> 7\u001b[0;31m \u001b[0mwritebunchobj\u001b[0m\u001b[1;33m(\u001b[0m\u001b[0mspace_path\u001b[0m\u001b[1;33m,\u001b[0m \u001b[0mtfidfspace\u001b[0m\u001b[1;33m)\u001b[0m\u001b[1;33m\u001b[0m\u001b[0m\n\u001b[0m",
      "\u001b[0;31mNameError\u001b[0m: name 'tfidfspace' is not defined"
     ]
    }
   ],
   "source": [
    "'''\n",
    "持久化TF-IDF向量词袋\n",
    "'''\n",
    "\n",
    "#创建词袋的持久化\n",
    "space_path = \"train_word_bag/tfidfspace.dat\"  #词向量词袋保存路径\n",
    "writebunchobj(space_path, tfidfspace)"
   ]
  },
  {
   "cell_type": "code",
   "execution_count": null,
   "metadata": {
    "collapsed": true
   },
   "outputs": [],
   "source": []
  }
 ],
 "metadata": {
  "anaconda-cloud": {},
  "kernelspec": {
   "display_name": "Python [default]",
   "language": "python",
   "name": "python2"
  },
  "language_info": {
   "codemirror_mode": {
    "name": "ipython",
    "version": 2
   },
   "file_extension": ".py",
   "mimetype": "text/x-python",
   "name": "python",
   "nbconvert_exporter": "python",
   "pygments_lexer": "ipython2",
   "version": "2.7.12"
  }
 },
 "nbformat": 4,
 "nbformat_minor": 1
}
